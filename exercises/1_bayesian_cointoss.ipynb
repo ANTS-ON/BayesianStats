{
 "cells": [
  {
   "cell_type": "code",
   "execution_count": null,
   "id": "a35b7015-d27b-4bf2-bb6a-01daf26e682b",
   "metadata": {},
   "outputs": [],
   "source": [
    "import numpy as np\n",
    "from scipy import stats\n",
    "from matplotlib import pyplot as plt"
   ]
  },
  {
   "cell_type": "markdown",
   "id": "b1eb891b",
   "metadata": {},
   "source": [
    "# 1. Bayesian Coin Toss"
   ]
  },
  {
   "cell_type": "markdown",
   "id": "09fdb9c9-d60b-49d8-8df5-b572282d64aa",
   "metadata": {},
   "source": [
    "### Setup \n",
    "Let's generate 500 coin tosses from a [Bernoulli distribution](https://docs.scipy.org/doc/scipy/reference/generated/scipy.stats.bernoulli.html?highlight=bernoulli#scipy.stats.bernoulli):"
   ]
  },
  {
   "cell_type": "code",
   "execution_count": null,
   "id": "b37411bc-a26a-4355-b7c8-b6e837552a47",
   "metadata": {},
   "outputs": [],
   "source": [
    "p = 0.5\n",
    "n_draws = 1000\n",
    "data = stats.bernoulli.rvs(p, size=n_draws)"
   ]
  },
  {
   "cell_type": "markdown",
   "id": "5b2b6889-c80b-48ad-8919-e1c682714754",
   "metadata": {},
   "source": [
    "### Explore the data\n",
    "Explore the data by calculating its [empirical mean](https://numpy.org/doc/stable/reference/generated/numpy.mean.html) and its [empirical  variance](https://numpy.org/doc/stable/reference/generated/numpy.var.html). Look up, how mean and variance of a [Bernoulli distribution](https://en.wikipedia.org/wiki/Bernoulli_distribution) are defined. What do you notice?"
   ]
  },
  {
   "cell_type": "code",
   "execution_count": null,
   "id": "d9a2680b-5022-48ca-9e0a-3c4602574f6c",
   "metadata": {},
   "outputs": [],
   "source": []
  },
  {
   "cell_type": "code",
   "execution_count": null,
   "id": "d43b73f7-563a-4ee4-ab2e-d8e5bd7871d4",
   "metadata": {},
   "outputs": [],
   "source": []
  },
  {
   "cell_type": "markdown",
   "id": "7a277deb-9b6a-41ed-8371-062c3b82cb8c",
   "metadata": {},
   "source": [
    "### Code a plot function\n",
    "Fill out the function `plot_coin_toss` that computes the *posterior distribution* given a number of coin tosses as *data*. By choosing a suitable prior and doing some fancy math, we know that the posterior in this case is a *beta distribution* with $a = 1 + n_\\text{heads}, \\, b = 1 + n_\\text{trials} - n_\\text{heads}$.\n",
    "\n",
    "- Take the first $n_\\text{trials}$ draws from data and compute the number of heads.\n",
    "\n",
    "- Use the PDF (probability density function) of the [beta distribution](https://docs.scipy.org/doc/scipy/reference/generated/scipy.stats.beta.html#scipy.stats.beta), to compute the posterior distribution for every point in `x`."
   ]
  },
  {
   "cell_type": "code",
   "execution_count": null,
   "id": "d15b4712-9c16-441e-b3e8-f5ed9a404091",
   "metadata": {},
   "outputs": [],
   "source": [
    "def plot_coin_toss(n_trials, data):\n",
    "    n_heads = ...\n",
    "\n",
    "    x = np.linspace(0, 1, 1000)\n",
    "    posterior_pdf = ...\n",
    "    \n",
    "    plt.title(\"%s trials, %s heads\" % (n_trials, n_heads))\n",
    "    plt.xlabel(\"$P(H)$, Probability of Heads\")\n",
    "    plt.ylabel(\"Density\")\n",
    "    plt.plot(x, posterior_pdf, label=\"observe %d tosses,\\n %d heads\" % (n_trials, n_heads))\n",
    "    plt.fill_between(x, 0, posterior_pdf, color=\"#aaaadd\", alpha=0.5)\n",
    "    plt.xlim((0., 1.))\n",
    "    plt.ylim((0., 30.))\n",
    "    plt.show()"
   ]
  },
  {
   "cell_type": "markdown",
   "id": "219d6c24-6970-4cda-b5fd-e71dd13411d4",
   "metadata": {},
   "source": [
    "### Run multiple trials\n",
    "Execute the coin toss function for multiple number of trials (e.g. 0, 2, 10, 20, 50, 500). Is the result sensible? Describe what you see and what this means for the estimation."
   ]
  },
  {
   "cell_type": "code",
   "execution_count": null,
   "id": "60504ce5-f01f-4065-9f31-9475394f6896",
   "metadata": {},
   "outputs": [],
   "source": []
  },
  {
   "cell_type": "markdown",
   "id": "eaeb07cd-82b6-47ce-9c60-06476d02be9a",
   "metadata": {},
   "source": [
    "### (Optional) Animate coin toss\n",
    "Use [Jupyter Widgets](https://ipywidgets.readthedocs.io/en/latest/) to build an jupyter notebook application with two sliders that modify $p$ and $n_\\text{trials}$. Set $n_\\text{draws}$ to a higher value. Have fun!"
   ]
  },
  {
   "cell_type": "code",
   "execution_count": null,
   "id": "77e11e86",
   "metadata": {},
   "outputs": [],
   "source": []
  }
 ],
 "metadata": {
  "kernelspec": {
   "display_name": "Python 3 (ipykernel)",
   "language": "python",
   "name": "python3"
  },
  "language_info": {
   "codemirror_mode": {
    "name": "ipython",
    "version": 3
   },
   "file_extension": ".py",
   "mimetype": "text/x-python",
   "name": "python",
   "nbconvert_exporter": "python",
   "pygments_lexer": "ipython3",
   "version": "3.10.6"
  }
 },
 "nbformat": 4,
 "nbformat_minor": 5
}
