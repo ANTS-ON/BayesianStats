{
 "cells": [
  {
   "cell_type": "markdown",
   "id": "b6c33d62",
   "metadata": {
    "slideshow": {
     "slide_type": "slide"
    }
   },
   "source": [
    "<div>\n",
    "  <img style=\"height: 600px;\" src=\"data/frequentists_vs_bayesians.png\" />\n",
    "</div>"
   ]
  },
  {
   "cell_type": "markdown",
   "id": "eac91079",
   "metadata": {
    "slideshow": {
     "slide_type": "slide"
    }
   },
   "source": [
    "# Introduction to Bayesian Statistics\n",
    "\n",
    "Anton Stratmann, 2nd year"
   ]
  },
  {
   "cell_type": "markdown",
   "id": "9845bdb8",
   "metadata": {
    "slideshow": {
     "slide_type": "slide"
    }
   },
   "source": [
    "### Roadmap\n",
    "\n",
    "1. Understanding Bayes' Theorem\n",
    "2. Priors\n",
    "3. Towards application"
   ]
  },
  {
   "cell_type": "markdown",
   "id": "a94bbc57",
   "metadata": {
    "slideshow": {
     "slide_type": "slide"
    }
   },
   "source": [
    "### Assumptions matter"
   ]
  },
  {
   "cell_type": "markdown",
   "id": "d10f776a",
   "metadata": {
    "slideshow": {
     "slide_type": "fragment"
    }
   },
   "source": [
    "- The Frequetist calculates $\\mathbb{P}\\left(\\, \\text{\"Positive\"} \\, \\big| \\, \\text{\"Sun Exploded\"} \\, \\right)$"
   ]
  },
  {
   "cell_type": "markdown",
   "id": "dc9131af",
   "metadata": {
    "slideshow": {
     "slide_type": "fragment"
    }
   },
   "source": [
    "- But, we are interested in $\\mathbb{P}\\left(\\, \\text{\"Sun Exploded\"} \\, | \\, \\text{\"Positive\"} \\, \\right)$"
   ]
  },
  {
   "cell_type": "markdown",
   "id": "7760acb3",
   "metadata": {
    "slideshow": {
     "slide_type": "fragment"
    }
   },
   "source": [
    "- Sun Explosion is an unlikely event &rarr; Account for that"
   ]
  },
  {
   "cell_type": "markdown",
   "id": "77b60519",
   "metadata": {
    "slideshow": {
     "slide_type": "slide"
    }
   },
   "source": [
    "### Tree Diagram"
   ]
  },
  {
   "cell_type": "code",
   "execution_count": 2,
   "id": "5a49201c",
   "metadata": {
    "slideshow": {
     "slide_type": "skip"
    }
   },
   "outputs": [],
   "source": [
    "import base64\n",
    "from IPython.display import Image, display\n",
    "import matplotlib.pyplot as plt\n",
    "\n",
    "def mm(graph):\n",
    "  graphbytes = graph.encode(\"ascii\")\n",
    "  base64_bytes = base64.b64encode(graphbytes)\n",
    "  base64_string = base64_bytes.decode(\"ascii\")\n",
    "  display(\n",
    "    Image(\n",
    "      url=\"https://mermaid.ink/img/\"\n",
    "      + base64_string,\n",
    "      width=600\n",
    "    )\n",
    "  )"
   ]
  },
  {
   "cell_type": "code",
   "execution_count": 3,
   "id": "bdd8638f",
   "metadata": {
    "slideshow": {
     "slide_type": "fragment"
    }
   },
   "outputs": [
    {
     "data": {
      "text/html": [
       "<img src=\"https://mermaid.ink/img/Z3JhcGggTFI7IEEoKCApKSAtLUEtLT4gQihTdW4gRXhwbG9kZWQpOyBBIC0tMS1BLS0+IEMoU3VuIE5vdCBFeHBsb2RlZCk7IEIgLS0zNS8zNi0tPiBEKFBvc2l0aXZlKTsgQiAtLTEvMzYtLT4gRShOZWdhdGl2ZSk7IEMgLS0xLzM2LS0+IEYoUG9zaXRpdmUpOyBDIC0tMzUvMzYtLT4gRyhOZWdhdGl2ZSk=\" width=\"600\"/>"
      ],
      "text/plain": [
       "<IPython.core.display.Image object>"
      ]
     },
     "metadata": {},
     "output_type": "display_data"
    }
   ],
   "source": [
    "mm(\"\"\"graph LR; A(( )) --A--> B(Sun Exploded); A --1-A--> C(Sun Not Exploded); B --35/36--> D(Positive); B --1/36--> E(Negative); C --1/36--> F(Positive); C --35/36--> G(Negative)\"\"\")"
   ]
  },
  {
   "cell_type": "markdown",
   "id": "3d3f977a",
   "metadata": {
    "slideshow": {
     "slide_type": "slide"
    }
   },
   "source": [
    "### Deriving Bayes' Theorem\n",
    "\n",
    "- How can we get $\\mathbb{P}\\left(\\, \\text{\"Sun Exploded\"} \\, \\big| \\, \\text{\"Truth\"} \\, \\right)$?"
   ]
  },
  {
   "cell_type": "markdown",
   "id": "430c749e",
   "metadata": {
    "slideshow": {
     "slide_type": "fragment"
    }
   },
   "source": [
    "- Use laws of conditional probability: $\\mathbb{P}\\left(\\, B \\, \\big| \\, A \\, \\right) = \\frac{\\mathbb{P}\\left(\\, B \\, \\bigcap \\, A \\, \\right)}{\\mathbb{P}\\left(\\, A \\, \\right)}$\n",
    "- And by replacing\n",
    "    - $\\mathbb{P}\\left(\\, B \\, \\bigcap \\, A \\, \\right) = \\mathbb{P}\\left(\\, A \\, \\big| \\, B \\, \\right) \\cdot \\mathbb{P}\\left(\\, B \\, \\right)$\n",
    "    - $\\mathbb{P}\\left(\\, B \\, \\right) = \\mathbb{P}\\left(\\, B \\, \\big| \\, A \\, \\right) \\cdot \\mathbb{P}\\left(\\, A \\, \\right) + \\mathbb{P}\\left(\\, B \\, \\big| \\, \\neg A \\, \\right) \\cdot \\mathbb{P}\\left(\\, \\neg A \\, \\right)$"
   ]
  },
  {
   "cell_type": "markdown",
   "id": "eb0a4995",
   "metadata": {
    "slideshow": {
     "slide_type": "fragment"
    }
   },
   "source": [
    "#### Bayes' Theorem: $$\\mathbb{P}\\left(\\, B \\, \\big| \\, A \\, \\right) = \\frac{\\mathbb{P}\\left(\\, A \\, \\big| \\, B \\, \\right) \\cdot \\mathbb{P}\\left(\\, B \\,\\right)}{\\mathbb{P}\\left(\\, A \\, \\big| \\, B \\, \\right) \\cdot \\mathbb{P}\\left(\\, B \\, \\right) + \\mathbb{P}\\left(\\, A \\, \\big| \\, \\neg B \\, \\right) \\cdot \\mathbb{P}\\left(\\, \\neg B \\, \\right)}$$"
   ]
  },
  {
   "cell_type": "markdown",
   "id": "2dd54357",
   "metadata": {
    "slideshow": {
     "slide_type": "fragment"
    }
   },
   "source": [
    "*Note*: In our case $\\mathbb{P}\\left(\\, B \\,\\right)$ is the probability, that the sun explodes."
   ]
  },
  {
   "cell_type": "markdown",
   "id": "58c1639f",
   "metadata": {
    "slideshow": {
     "slide_type": "slide"
    }
   },
   "source": [
    "### Bayes' Theorem for densities\n",
    "\n",
    "- Sets have limited application &rarr; We need a more general Bayes' Theorem"
   ]
  },
  {
   "cell_type": "markdown",
   "id": "64816309",
   "metadata": {
    "slideshow": {
     "slide_type": "fragment"
    }
   },
   "source": [
    "- Bayes' Theorem also holds for probability densities\n",
    "- It can be applied easily to parametric models"
   ]
  },
  {
   "cell_type": "markdown",
   "id": "e4404a47",
   "metadata": {
    "slideshow": {
     "slide_type": "fragment"
    }
   },
   "source": [
    "<div style=\"padding: 10px; padding-left: 50px; background: #D3D3D3;\">\n",
    "    Given some data $\\mathbf{y}$ and parameters $\\boldsymbol\\theta$ that have a common probability density $p\\big(\\mathbf{y}, \\boldsymbol\\theta\\big)$. Then, we obtain\n",
    "    $$p\\left(\\boldsymbol\\theta \\, \\big| \\, \\mathbf{y}\\right) = \\frac{p\\left(\\mathbf{y} \\, \\big| \\, \\boldsymbol\\theta\\right) \\cdot p\\left(\\boldsymbol\\theta\\right)}{p\\left(\\mathbf{y}\\right)}$$\n",
    "    also called Bayes' Theorem. \n",
    "</div>"
   ]
  },
  {
   "cell_type": "markdown",
   "id": "1b699e5b",
   "metadata": {
    "slideshow": {
     "slide_type": "fragment"
    }
   },
   "source": [
    "- $p\\left(\\boldsymbol\\theta\\right)$ is called *prior*, $p\\left(\\mathbf{y} \\, \\big| \\, \\boldsymbol\\theta\\right)$ *likelihood* and $p\\left(\\boldsymbol\\theta \\, \\big| \\, \\mathbf{y}\\right)$ *posterior*"
   ]
  },
  {
   "cell_type": "markdown",
   "id": "b689aa95",
   "metadata": {
    "slideshow": {
     "slide_type": "slide"
    }
   },
   "source": [
    "### Implications\n",
    "\n",
    "- In Bayesian statistics, parameters are random\n",
    "- Their distribution is updated from *prior* to *posterior* density"
   ]
  },
  {
   "cell_type": "markdown",
   "id": "c6d1f348",
   "metadata": {
    "slideshow": {
     "slide_type": "fragment"
    }
   },
   "source": [
    "- The *prior* encodes assumptions!"
   ]
  },
  {
   "cell_type": "markdown",
   "id": "5bd9cf28",
   "metadata": {},
   "source": [
    "### Notes on Application\n",
    "- *likelihood* and *prior* are known \n",
    "- *posterior* is known up to a constant factor &rarr; Normalization is hard (high-dimensional integral)\n",
    "- Circumvent normalization\n",
    "- *likelihood* and *prior* densities only need to be known up to a constant factor\n",
    "- Work with log densities: $\\log p\\left(\\mathbf{y} \\, \\big| \\, \\boldsymbol\\theta\\right) \\cdot p\\left(\\boldsymbol\\theta\\right) = \\log p\\left(\\mathbf{y} \\, \\big| \\, \\boldsymbol\\theta\\right) + \\log p\\left(\\boldsymbol\\theta\\right)$"
   ]
  },
  {
   "cell_type": "markdown",
   "id": "88428193",
   "metadata": {
    "slideshow": {
     "slide_type": "slide"
    }
   },
   "source": [
    "### Frequentism\n",
    "\n",
    "- Frequentism is a statistical paradigm present since the early 20th century\n",
    "- Tought in the average statistics lecture\n",
    "- Universal tools: maximum likelihood theory, hypothesis testing"
   ]
  },
  {
   "cell_type": "markdown",
   "id": "efda0c85",
   "metadata": {
    "slideshow": {
     "slide_type": "fragment"
    }
   },
   "source": [
    "- **Aim**: eliminate subjective view, objective statistics"
   ]
  },
  {
   "cell_type": "markdown",
   "id": "85bf7fe4",
   "metadata": {
    "slideshow": {
     "slide_type": "fragment"
    }
   },
   "source": [
    "- **Key concept**: Uncertainty arises because we observe limited (subsets of) data"
   ]
  },
  {
   "cell_type": "markdown",
   "id": "3853bf54",
   "metadata": {
    "slideshow": {
     "slide_type": "slide"
    }
   },
   "source": [
    "### Similarities\n",
    "\n",
    "- Both have common mathematical base\n",
    "- Maximum likelihood theory is closely linked to Bayesian inference\n",
    "    - Likelihood function used for MLE &lrarr; Bayesian likelihood density\n",
    "    - Asymptotic normality has implications for both\n",
    "- Both paradigms can yield similar results"
   ]
  },
  {
   "cell_type": "markdown",
   "id": "6213c707",
   "metadata": {
    "slideshow": {
     "slide_type": "slide"
    }
   },
   "source": [
    "### Differences"
   ]
  },
  {
   "cell_type": "markdown",
   "id": "0166d316",
   "metadata": {
    "slideshow": {
     "slide_type": "fragment"
    }
   },
   "source": [
    "1. Frequentist statistics does not incorporate assumptions (officially ;))"
   ]
  },
  {
   "cell_type": "markdown",
   "id": "028dd01b",
   "metadata": {
    "slideshow": {
     "slide_type": "fragment"
    }
   },
   "source": [
    "2. Bayesian statistics does not have ground truth parameters"
   ]
  },
  {
   "cell_type": "markdown",
   "id": "2edd6a00",
   "metadata": {
    "slideshow": {
     "slide_type": "fragment"
    }
   },
   "source": [
    "3. Bayesian statistics generally require more computational resources, but is much more versatile"
   ]
  },
  {
   "cell_type": "markdown",
   "id": "8c0350bf",
   "metadata": {
    "slideshow": {
     "slide_type": "slide"
    }
   },
   "source": [
    "## Exercises 1"
   ]
  },
  {
   "cell_type": "code",
   "execution_count": 2,
   "id": "5181403d",
   "metadata": {
    "slideshow": {
     "slide_type": "skip"
    }
   },
   "outputs": [],
   "source": [
    "import numpy as np\n",
    "from scipy import stats\n",
    "from matplotlib import pyplot as plt\n",
    "\n",
    "p = 0.5\n",
    "n_draws = 1000\n",
    "data = stats.bernoulli.rvs(p, size=n_draws)"
   ]
  },
  {
   "cell_type": "markdown",
   "id": "999a7762",
   "metadata": {
    "slideshow": {
     "slide_type": "slide"
    }
   },
   "source": [
    "### 1. Explore the data"
   ]
  },
  {
   "cell_type": "code",
   "execution_count": 3,
   "id": "21c12f32",
   "metadata": {},
   "outputs": [
    {
     "data": {
      "text/plain": [
       "(0.501, 0.24999899999999997)"
      ]
     },
     "execution_count": 3,
     "metadata": {},
     "output_type": "execute_result"
    }
   ],
   "source": [
    "data.mean(), data.var()"
   ]
  },
  {
   "cell_type": "code",
   "execution_count": 14,
   "id": "2395273d",
   "metadata": {},
   "outputs": [
    {
     "data": {
      "text/plain": [
       "(0.5, 0.25)"
      ]
     },
     "execution_count": 14,
     "metadata": {},
     "output_type": "execute_result"
    }
   ],
   "source": [
    "p, (1 - p) * p # mean, variance"
   ]
  },
  {
   "cell_type": "markdown",
   "id": "27ee32ea",
   "metadata": {
    "slideshow": {
     "slide_type": "slide"
    }
   },
   "source": [
    "### 2. Code a plot function"
   ]
  },
  {
   "cell_type": "code",
   "execution_count": 6,
   "id": "956164d3",
   "metadata": {},
   "outputs": [],
   "source": [
    "def plot_coin_toss(n_trials, data):\n",
    "    n_heads = data[:n_trials].sum()\n",
    "\n",
    "    x = np.linspace(0, 1, 1000)\n",
    "    posterior_pdf = stats.beta.pdf(x, 1 + n_heads, 1 + n_trials - n_heads)\n",
    "    \n",
    "    plt.title(\"%s trials, %s heads\" % (n_trials, n_heads))\n",
    "    plt.xlabel(\"$P(H)$, Probability of Heads\")\n",
    "    plt.ylabel(\"Density\")\n",
    "    plt.plot(x, posterior_pdf, label=\"observe %d tosses,\\n %d heads\" % (n_trials, n_heads))\n",
    "    plt.fill_between(x, 0, posterior_pdf, color=\"#aaaadd\", alpha=0.5)\n",
    "    plt.xlim((0., 1.))\n",
    "    plt.ylim((0., 30.))\n",
    "    plt.show()"
   ]
  },
  {
   "cell_type": "markdown",
   "id": "e7a96a34",
   "metadata": {
    "slideshow": {
     "slide_type": "slide"
    }
   },
   "source": [
    "### 3. Run multiple trials"
   ]
  },
  {
   "cell_type": "code",
   "execution_count": 9,
   "id": "3d35acb0",
   "metadata": {},
   "outputs": [
    {
     "data": {
      "image/png": "[encoded data removed]",
      "text/plain": [
       "<Figure size 640x480 with 1 Axes>"
      ]
     },
     "metadata": {},
     "output_type": "display_data"
    }
   ],
   "source": [
    "plot_coin_toss(0, data)"
   ]
  },
  {
   "cell_type": "code",
   "execution_count": 11,
   "id": "834fa2b5",
   "metadata": {
    "slideshow": {
     "slide_type": "subslide"
    }
   },
   "outputs": [
    {
     "data": {
      "image/png": "[encoded data removed]",
      "text/plain": [
       "<Figure size 640x480 with 1 Axes>"
      ]
     },
     "metadata": {},
     "output_type": "display_data"
    }
   ],
   "source": [
    "plot_coin_toss(50, data)"
   ]
  },
  {
   "cell_type": "code",
   "execution_count": 10,
   "id": "bf52fb5a",
   "metadata": {
    "slideshow": {
     "slide_type": "subslide"
    }
   },
   "outputs": [
    {
     "data": {
      "image/png": "[encoded data removed]",
      "text/plain": [
       "<Figure size 640x480 with 1 Axes>"
      ]
     },
     "metadata": {},
     "output_type": "display_data"
    }
   ],
   "source": [
    "plot_coin_toss(1000, data)"
   ]
  },
  {
   "cell_type": "markdown",
   "id": "4e0162f3",
   "metadata": {
    "slideshow": {
     "slide_type": "slide"
    }
   },
   "source": [
    "### 4. (Optional) Animate coin toss"
   ]
  },
  {
   "cell_type": "code",
   "execution_count": 2,
   "id": "e5eb4d40",
   "metadata": {
    "slideshow": {
     "slide_type": "skip"
    }
   },
   "outputs": [],
   "source": [
    "from __future__ import print_function\n",
    "from ipywidgets import interact, interactive, fixed, interact_manual\n",
    "import ipywidgets as widgets\n",
    "import matplotlib.pyplot as plt, random\n",
    "\n",
    "def interactive_plot(n_trials, p):\n",
    "    data = stats.bernoulli.rvs(p, size=2000)\n",
    "    plot_coin_toss(n_trials, data)\n",
    "    return"
   ]
  },
  {
   "cell_type": "code",
   "execution_count": 13,
   "id": "f20d173e",
   "metadata": {
    "slideshow": {
     "slide_type": "-"
    }
   },
   "outputs": [
    {
     "data": {
      "application/vnd.jupyter.widget-view+json": {
       "model_id": "9595a194b97a4432aac2b612c2c0df42",
       "version_major": 2,
       "version_minor": 0
      },
      "text/plain": [
       "interactive(children=(IntSlider(value=991, description='n_trials', max=2000, min=1, step=10), FloatSlider(valu…"
      ]
     },
     "metadata": {},
     "output_type": "display_data"
    }
   ],
   "source": [
    "interact(interactive_plot, n_trials=(1,2000, 10), p=(0., 1., 0.05));"
   ]
  },
  {
   "cell_type": "markdown",
   "id": "dc5bcd4f",
   "metadata": {
    "slideshow": {
     "slide_type": "slide"
    }
   },
   "source": [
    "## Priors\n",
    "\n",
    "We discuss, how\n",
    "- priors encode assumptions\n",
    "- priors can be interpreted as regularizers\n",
    "- to choose a prior"
   ]
  },
  {
   "cell_type": "markdown",
   "id": "b290a7e9",
   "metadata": {
    "slideshow": {
     "slide_type": "slide"
    }
   },
   "source": [
    "### Optimization is often Maximum Likelihood\n",
    "- Example: Weighted Least Squares (WLS) \n",
    "    $$\\big(F(\\boldsymbol \\theta) - \\mathbf{y}\\big)^\\top \\mathbf{\\Sigma}^{-1} \\big(F(\\boldsymbol \\theta) - \\mathbf{y}\\big) = \\sum_{i = 0}^N \\left( \\frac{F_i(\\boldsymbol \\theta) - y_i}{\\sigma_i} \\right)^2$$\n",
    "    \n",
    "- We can now see that\n",
    "    $$\\frac{1}{\\sqrt{(2 \\pi)^n |\\mathbf{\\Sigma}|}} \\mathrm{exp}\\left(-\\frac{1}{2}\\big(F(\\boldsymbol \\theta) - \\mathbf{y}\\big)^\\top \\mathbf{\\Sigma}^{-1} \\big(F(\\boldsymbol \\theta) - \\mathbf{y}\\big)\\right)$$\n",
    "  is a Gaussian density\n",
    "  \n",
    "- Minimum of WLS is an MLE assuming Normal-distributed data $\\mathbf{y} \\sim \\mathcal{N}\\big(F(\\boldsymbol \\theta), \\mathbf{\\Sigma}\\big)$\n",
    "- Can also be used as Bayesian *likelihood*"
   ]
  },
  {
   "cell_type": "markdown",
   "id": "8f995989",
   "metadata": {
    "slideshow": {
     "slide_type": "slide"
    }
   },
   "source": [
    "### Problems are often Ill-Conditioned\n",
    "- Example: Standard linear least squares ($ \\min_{\\boldsymbol \\theta} ||\\mathbf{A} \\cdot \\boldsymbol \\theta - \\mathbf{b}||^2_2 $) with Matrix\n",
    "$$ F(\\boldsymbol \\theta) = \n",
    "    \\begin{pmatrix} \n",
    "        -2 & 1 & 0 & \\cdots & \\cdots & \\cdots & 0 \\\\ \n",
    "         1 & -2 & 1 & 0 & \\cdots & \\cdots & 0 \\\\\n",
    "         0 & 1 & -2 & 1 & 0 & \\dots & 0 \\\\ \n",
    "         \\vdots & \\ddots & \\ddots & \\ddots & \\ddots & \\ddots & \\vdots \\\\\n",
    "         0 & \\cdots & 0 & 1 & -2 & 1 & 0 \\\\ \n",
    "         0 & \\cdots & \\cdots & 0 & 1 & -2 & 1 \\\\ \n",
    "         0 & \\cdots & \\cdots &\\cdots & 0 & 1 & -2 \n",
    "    \\end{pmatrix} \\cdot \\boldsymbol \\theta$$\n",
    "- Bad condition: Errors in input data are amplified"
   ]
  },
  {
   "cell_type": "markdown",
   "id": "bc09d1d9",
   "metadata": {
    "slideshow": {
     "slide_type": "slide"
    }
   },
   "source": [
    "### Solution: Regularization\n",
    "- Idea: trade approximation quality for less error amplification\n",
    "- Tikhonov/L2 regularization: solve instead\n",
    "    $$\\min_{\\boldsymbol \\theta} ||\\mathbf{A} \\cdot \\boldsymbol \\theta - \\mathbf{b}||^2_2 + \\alpha \\cdot ||\\boldsymbol \\theta||^2_2$$"
   ]
  },
  {
   "cell_type": "markdown",
   "id": "953a992c",
   "metadata": {
    "slideshow": {
     "slide_type": "slide"
    }
   },
   "source": [
    "### This looks like a prior!\n",
    "- Closely look at\n",
    "    $$\\min_{\\boldsymbol \\theta} ||\\mathbf{A} \\cdot \\boldsymbol \\theta - \\mathbf{b}||^2_2 + \\alpha \\cdot ||\\boldsymbol \\theta||^2_2$$\n",
    "- $-||\\mathbf{A} \\cdot \\boldsymbol \\theta - \\mathbf{b}||^2_2$ is proportional to a Normal log-density\n",
    "- For $-\\alpha \\cdot ||\\boldsymbol \\theta||^2_2$ the same holds: It corresponds to a prior $\\boldsymbol \\theta \\sim \\mathcal{N}(\\mathbf{0}, \\frac{1}{\\alpha} \\cdot \\mathbf{I})$"
   ]
  },
  {
   "cell_type": "markdown",
   "id": "5e2df627",
   "metadata": {
    "slideshow": {
     "slide_type": "slide"
    }
   },
   "source": [
    "### How to choose a prior?\n",
    "\n",
    "- Unfortunately, it is not always easy\n",
    "- Often problem-dependend &rarr; Investigation and use of existing knowledge necessary\n",
    "- Popular choices can narrow down\n",
    "- Still, it is always necessary to check your prior!"
   ]
  },
  {
   "cell_type": "markdown",
   "id": "826ceafc",
   "metadata": {
    "slideshow": {
     "slide_type": "slide"
    }
   },
   "source": [
    "### Informativesness\n",
    "\n",
    "- Important classification for priors\n",
    "- Generally, informativeness encodes how strong initial assumptions are"
   ]
  },
  {
   "cell_type": "markdown",
   "id": "37ffb80e",
   "metadata": {
    "slideshow": {
     "slide_type": "slide"
    }
   },
   "source": [
    "Assume that $\\boldsymbol\\theta$ is bounded to $\\big[0, 1\\big]$ and expected at $\\frac{1}{2}$:"
   ]
  },
  {
   "cell_type": "code",
   "execution_count": 3,
   "id": "b45d0c8c",
   "metadata": {
    "slideshow": {
     "slide_type": "skip"
    }
   },
   "outputs": [],
   "source": [
    "import numpy as np\n",
    "import scipy\n",
    "\n",
    "def plot_pdf(t, samples, ax):\n",
    "    ax.plot(t, samples)\n",
    "    ax.fill_between(t, 0, samples, color=\"#aaaadd\", alpha=0.5)"
   ]
  },
  {
   "cell_type": "code",
   "execution_count": 5,
   "id": "50aae44f",
   "metadata": {},
   "outputs": [
    {
     "data": {
      "image/png": "[encoded data removed]",
      "text/plain": [
       "<Figure size 1500x500 with 3 Axes>"
      ]
     },
     "metadata": {},
     "output_type": "display_data"
    }
   ],
   "source": [
    "fig, axs = plt.subplots(1, 3, sharey=True, sharex=True, figsize=(15, 5))\n",
    "t = np.linspace(0, 1)\n",
    "plot_pdf(t, scipy.stats.uniform.pdf(t, 0, 1), axs[0])\n",
    "axs[0].set_title(\"uninformative/diffuse\")\n",
    "plot_pdf(t, scipy.stats.truncnorm.pdf((t - 0.5) / 0.5, (0 - 0.5) / 0.5, (1 - 0.5) / 0.5) / 0.5, axs[1])\n",
    "axs[1].set_title(\"weakly informative\")\n",
    "plot_pdf(t, scipy.stats.truncnorm.pdf((t - 0.5) / 0.1, (0 - 0.5) / 0.1, (1 - 0.5) / 0.1) / 0.1, axs[2])\n",
    "axs[2].set_title(\"very informative\")\n",
    "plt.show()"
   ]
  },
  {
   "cell_type": "markdown",
   "id": "1cbab3ed",
   "metadata": {
    "slideshow": {
     "slide_type": "slide"
    }
   },
   "source": [
    "### Regularizing Priors\n",
    "\n",
    "spike-and-slab, horse shoe"
   ]
  },
  {
   "cell_type": "markdown",
   "id": "b9fd1f19",
   "metadata": {
    "slideshow": {
     "slide_type": "slide"
    }
   },
   "source": [
    "### Conjugate Priors\n",
    "\n",
    "\"mathematical prior\", a prior that is mainly choosen for calculation reasons"
   ]
  },
  {
   "cell_type": "markdown",
   "id": "d9dd8e1f",
   "metadata": {
    "slideshow": {
     "slide_type": "slide"
    }
   },
   "source": [
    "### Prior Predictive Checks\n",
    "\n",
    "- How can we check, if the prior is generally suitable?\n",
    "- Check if prior + model can reproduce data!"
   ]
  },
  {
   "cell_type": "markdown",
   "id": "cde3ffa3",
   "metadata": {
    "slideshow": {
     "slide_type": "slide"
    }
   },
   "source": [
    "## Bayesian Statistics in Application\n",
    "\n",
    "How can we do inference in general, application-oriented scenarios?\n",
    "- Markov Chain Monte Carlo (MCMC)\n",
    "- Posterior Predictive Checks"
   ]
  },
  {
   "cell_type": "markdown",
   "id": "a16b29f6",
   "metadata": {
    "slideshow": {
     "slide_type": "slide"
    }
   },
   "source": [
    "### Markov Chain Monte Carlo\n",
    "\n",
    "- Markov chains: special stochastic processes\n",
    "- Monte Carlo: Integration by random sampling\n",
    "- In a nice setting, Markov chains can produce (correlated) samples of the posterior distribution \n",
    "- Samples are used with Monte Carlo integration to approximate characteristics. E.g.\n",
    "    - Expectation and variance\n",
    "    - Quantiles"
   ]
  },
  {
   "cell_type": "markdown",
   "id": "830d28b4",
   "metadata": {
    "slideshow": {
     "slide_type": "slide"
    }
   },
   "source": [
    "### Posterior Predictive Checks\n",
    "\n",
    "- \"A posteriori\" check, if assumptions of Bayesian analysis are correct\n",
    "- How well is the data reproduced? Do error assumptions hold?\n",
    "- Should always be done"
   ]
  },
  {
   "cell_type": "code",
   "execution_count": null,
   "id": "b88fc542",
   "metadata": {},
   "outputs": [],
   "source": []
  }
 ],
 "metadata": {
  "celltoolbar": "Slideshow",
  "kernelspec": {
   "display_name": "Python 3 (ipykernel)",
   "language": "python",
   "name": "python3"
  },
  "language_info": {
   "codemirror_mode": {
    "name": "ipython",
    "version": 3
   },
   "file_extension": ".py",
   "mimetype": "text/x-python",
   "name": "python",
   "nbconvert_exporter": "python",
   "pygments_lexer": "ipython3",
   "version": "3.10.6"
  }
 },
 "nbformat": 4,
 "nbformat_minor": 5
}
